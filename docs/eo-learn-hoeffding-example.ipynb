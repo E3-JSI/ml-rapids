{
 "cells": [
  {
   "cell_type": "code",
   "execution_count": 1,
   "metadata": {},
   "outputs": [],
   "source": [
    "%reload_ext autoreload\n",
    "%autoreload 2\n",
    "%matplotlib inline\n",
    "\n",
    "import numpy as np\n",
    "import matplotlib.pyplot as plt\n",
    "import pandas as pd\n",
    "\n",
    "\n",
    "from eolearn.core import EOTask, EOPatch, LinearWorkflow, FeatureType, OverwritePermission, LoadFromDisk, SaveToDisk\n",
    "\n",
    "import geopandas as gpd\n",
    "\n",
    "import datetime\n",
    "import itertools\n",
    "import time\n",
    "\n",
    "import ml_rapids"
   ]
  },
  {
   "cell_type": "code",
   "execution_count": 2,
   "metadata": {},
   "outputs": [],
   "source": [
    "#EOTask for fit and predict\n",
    "class StreamingModelFit(EOTask):\n",
    "    \"\"\"\n",
    "        Task to fit or predict.\n",
    "    \"\"\"\n",
    "    def __init__(self, time=0, feature_name='bands', label_name='land_cov', model=ml_rapids.HoeffdingTree() ):\n",
    "        self.time=time\n",
    "        self.feature_name = feature_name\n",
    "        self.label_name = label_name\n",
    "        self.learner = model\n",
    "\n",
    "    def fit_eopatch(self, eopatch):\n",
    "        X = eopatch.data[self.feature_name][self.time]\n",
    "        Y = eopatch.mask_timeless[self.label_name]\n",
    "        X_train = X.reshape(X.shape[0] * X.shape[1], X.shape[2])\n",
    "        Y_train = Y.reshape(X.shape[0] * X.shape[1]).astype(int)\n",
    "        \n",
    "        self.learner.fit(X_train, Y_train)\n",
    "        \n",
    "    def execute(self, eopatch):\n",
    "        self.fit_eopatch(eopatch)\n",
    "        return eopatch\n",
    "            \n",
    "    def get_model(self):\n",
    "        return self.learner"
   ]
  },
  {
   "cell_type": "code",
   "execution_count": 3,
   "metadata": {},
   "outputs": [],
   "source": [
    "#EOTask used for fit\n",
    "class StreamingModelPredict(EOTask):\n",
    "    \"\"\"\n",
    "        Task to fit or predict.\n",
    "    \"\"\"\n",
    "    def __init__(self, time=0, feature_name='bands', label_name='land_cov', model=ml_rapids.HoeffdingTree() ):\n",
    "        self.time=time\n",
    "        self.feature_name = feature_name\n",
    "        self.label_name = label_name\n",
    "        self.learner = model\n",
    "    \n",
    "    def predict_eopatch(self, eopatch):\n",
    "        X = eopatch.data[self.feature_name][self.time]\n",
    "        X_predict = X.reshape(X.shape[0] * X.shape[1], X.shape[2])\n",
    "        \n",
    "        Y_predict = self.learner.predict(X_predict)\n",
    "        Y_predict = Y_predict.reshape(X.shape[0], X.shape[1], 1)\n",
    "        \n",
    "        eopatch.add_feature(FeatureType.MASK_TIMELESS, self.feature_name + '_predict', Y_predict)\n",
    "\n",
    "        return eopatch\n",
    "    \n",
    "    def execute(self, eopatch):\n",
    "        eopatch = self.predict_eopatch(eopatch)\n",
    "        return eopatch\n",
    "    \n",
    "    def get_model(self):\n",
    "        return self.learner"
   ]
  },
  {
   "cell_type": "code",
   "execution_count": 4,
   "metadata": {},
   "outputs": [],
   "source": [
    "fit_task = StreamingModelFit()"
   ]
  },
  {
   "cell_type": "code",
   "execution_count": 5,
   "metadata": {},
   "outputs": [],
   "source": [
    "workflow = LinearWorkflow(\n",
    "    fit_task\n",
    ")"
   ]
  },
  {
   "cell_type": "code",
   "execution_count": 6,
   "metadata": {},
   "outputs": [
    {
     "data": {
      "text/plain": [
       "WorkflowResults(\n",
       "  Dependency(StreamingModelFit):\n",
       "    EOPatch(\n",
       "      data: {\n",
       "        bands: numpy.ndarray(shape=(167, 337, 333, 13), dtype=float32)\n",
       "      }\n",
       "      mask: {\n",
       "        IS_DATA: numpy.ndarray(shape=(167, 337, 333, 1), dtype=bool)\n",
       "      }\n",
       "      scalar: {}\n",
       "      label: {}\n",
       "      vector: {}\n",
       "      data_timeless: {}\n",
       "      mask_timeless: {\n",
       "        land_cov: numpy.ndarray(shape=(337, 333, 1), dtype=uint32)\n",
       "      }\n",
       "      scalar_timeless: {}\n",
       "      label_timeless: {}\n",
       "      vector_timeless: {}\n",
       "      meta_info: {\n",
       "        maxcc: 0.8\n",
       "        service_type: 'wcs'\n",
       "        size_x: '10m'\n",
       "        size_y: '10m'\n",
       "        time_difference: datetime.timedelta(days=-1, seconds=86399)\n",
       "        time_interval: ['2015-07-01', '2018-6-30']\n",
       "      }\n",
       "      bbox: BBox(((543473.5912890476, 5139156.267383285), (546805.1886957382, 5142522.075033964)), crs=EPSG:32633)\n",
       "      timestamp: [datetime.datetime(2015, 7, 11, 10, 0, 8), ..., datetime.datetime(2018, 6, 30, 10, 6, 40)], length=167\n",
       "    )\n",
       ")"
      ]
     },
     "execution_count": 6,
     "metadata": {},
     "output_type": "execute_result"
    }
   ],
   "source": [
    "#fit\n",
    "#eopatch prepared in './eopatches/eopatch_test0/'\n",
    "eopatch = EOPatch.load('./eopatches/eopatch_test0/')\n",
    "extra_param = {\n",
    "    fit_task: {'eopatch' : eopatch}\n",
    "}\n",
    "workflow.execute(extra_param)"
   ]
  },
  {
   "cell_type": "code",
   "execution_count": 7,
   "metadata": {},
   "outputs": [],
   "source": [
    "# get model and use it in future workflows\n",
    "model = fit_task.get_model()\n",
    "predict_task = StreamingModelPredict(model=model)\n",
    "\n",
    "save = SaveToDisk(folder='eopatches', overwrite_permission=OverwritePermission.OVERWRITE_PATCH)"
   ]
  },
  {
   "cell_type": "code",
   "execution_count": 8,
   "metadata": {},
   "outputs": [],
   "source": [
    "workflow = LinearWorkflow(\n",
    "    predict_task,\n",
    "    save\n",
    ")"
   ]
  },
  {
   "cell_type": "code",
   "execution_count": 9,
   "metadata": {
    "scrolled": false
   },
   "outputs": [
    {
     "data": {
      "text/plain": [
       "WorkflowResults(\n",
       "  Dependency(SaveToDisk):\n",
       "    EOPatch(\n",
       "      data: {\n",
       "        bands: numpy.ndarray(shape=(167, 337, 333, 13), dtype=float32)\n",
       "      }\n",
       "      mask: {\n",
       "        IS_DATA: numpy.ndarray(shape=(167, 337, 333, 1), dtype=bool)\n",
       "      }\n",
       "      scalar: {}\n",
       "      label: {}\n",
       "      vector: {}\n",
       "      data_timeless: {}\n",
       "      mask_timeless: {\n",
       "        bands_predict: numpy.ndarray(shape=(337, 333, 1), dtype=int32)\n",
       "        land_cov: numpy.ndarray(shape=(337, 333, 1), dtype=uint32)\n",
       "      }\n",
       "      scalar_timeless: {}\n",
       "      label_timeless: {}\n",
       "      vector_timeless: {}\n",
       "      meta_info: {\n",
       "        maxcc: 0.8\n",
       "        service_type: 'wcs'\n",
       "        size_x: '10m'\n",
       "        size_y: '10m'\n",
       "        time_difference: datetime.timedelta(days=-1, seconds=86399)\n",
       "        time_interval: ['2015-07-01', '2018-6-30']\n",
       "      }\n",
       "      bbox: BBox(((543473.5912890476, 5142522.075033964), (546805.1886957382, 5145887.882684642)), crs=EPSG:32633)\n",
       "      timestamp: [datetime.datetime(2015, 7, 11, 10, 0, 8), ..., datetime.datetime(2018, 6, 30, 10, 6, 40)], length=167\n",
       "    )\n",
       ")"
      ]
     },
     "execution_count": 9,
     "metadata": {},
     "output_type": "execute_result"
    }
   ],
   "source": [
    "#predict\n",
    "#eopatch prepared in './eopatches/eopatch_test1'\n",
    "eopatch = EOPatch.load('./eopatches/eopatch_test1/')\n",
    "\n",
    "extra_param = {\n",
    "    predict_task: {'eopatch' : eopatch},\n",
    "    save: {'eopatch_folder': 'hoefding'}\n",
    "}\n",
    "workflow.execute(extra_param)"
   ]
  },
  {
   "cell_type": "code",
   "execution_count": null,
   "metadata": {},
   "outputs": [],
   "source": []
  }
 ],
 "metadata": {
  "kernelspec": {
   "display_name": "Python 3",
   "language": "python",
   "name": "python3"
  },
  "language_info": {
   "codemirror_mode": {
    "name": "ipython",
    "version": 3
   },
   "file_extension": ".py",
   "mimetype": "text/x-python",
   "name": "python",
   "nbconvert_exporter": "python",
   "pygments_lexer": "ipython3",
   "version": "3.7.3"
  }
 },
 "nbformat": 4,
 "nbformat_minor": 2
}
