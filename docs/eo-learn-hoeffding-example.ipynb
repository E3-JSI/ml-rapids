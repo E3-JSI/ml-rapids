{
 "cells": [
  {
   "cell_type": "markdown",
   "metadata": {},
   "source": [
    "# Eo-learn hoeffding tree example"
   ]
  },
  {
   "cell_type": "markdown",
   "metadata": {},
   "source": [
    "### Requirements\n",
    "\n",
    "To run the example you'll need a Sentinel Hub account. \n",
    "If you do not have one: [Sentinel Hub webpage](https://services.sentinel-hub.com/oauth/subscription).\n",
    "\n",
    "Once you have the account set up, login to [Sentinel Hub Configurator](https://apps.sentinel-hub.com/configurator/).\n",
    "For this tutorial create a new configuration (`\"Add new configuration\"`) and set the configuration to be based on **Python scripts template**.\n",
    "\n",
    "Then put configuration's **instance ID** into `sentinelhub` package's configuration file following the [configuration instructions](http://sentinelhub-py.readthedocs.io/en/latest/configure.html)."
   ]
  },
  {
   "cell_type": "code",
   "execution_count": 1,
   "metadata": {},
   "outputs": [],
   "source": [
    "%reload_ext autoreload\n",
    "%autoreload 2\n",
    "%matplotlib inline\n",
    "\n",
    "import numpy as np\n",
    "import matplotlib.pyplot as plt\n",
    "from sklearn.metrics import accuracy_score\n",
    "\n",
    "from eolearn.core import EOTask, EOPatch, LinearWorkflow, FeatureType, OverwritePermission, LoadFromDisk, SaveToDisk\n",
    "from eolearn.io import S2L1CWCSInput\n",
    "from eolearn.geometry import VectorToRaster\n",
    "\n",
    "from sentinelhub import BBox, transform_bbox, CRS, GeopediaFeatureIterator\n",
    "\n",
    "import geopandas as gpd\n",
    "\n",
    "import ml_rapids"
   ]
  },
  {
   "cell_type": "markdown",
   "metadata": {},
   "source": [
    "Define bbox and time range.\n",
    "\n",
    "BBox and time range are defined manually, for two patches in Slovenia.\n",
    "For more examples how to do use more EOPatches look at [eo-learn examples](https://eo-learn.readthedocs.io/en/latest/examples.html)"
   ]
  },
  {
   "cell_type": "code",
   "execution_count": 2,
   "metadata": {},
   "outputs": [],
   "source": [
    "bbox_0 = BBox(((543473.5912890476, 5139156.267383285), (546805.1886957382, 5142522.075033964)), crs='EPSG:32633')\n",
    "bbox_1 = BBox(((543473.5912890476, 5142522.075033964), (546805.1886957382, 5145887.882684642)), crs='EPSG:32633')"
   ]
  },
  {
   "cell_type": "code",
   "execution_count": 3,
   "metadata": {},
   "outputs": [],
   "source": [
    "time_interval = ['2017-04-01', '2017-07-01']"
   ]
  },
  {
   "cell_type": "markdown",
   "metadata": {},
   "source": [
    "## Define tasks to download data"
   ]
  },
  {
   "cell_type": "markdown",
   "metadata": {},
   "source": [
    "First, we define a task to download Sentinel-2 data."
   ]
  },
  {
   "cell_type": "code",
   "execution_count": 4,
   "metadata": {},
   "outputs": [],
   "source": [
    "add_data = S2L1CWCSInput(\n",
    "    layer='BANDS-S2-L1C', \n",
    "    feature=(FeatureType.DATA, 'bands'), \n",
    "    resx='10m', \n",
    "    resy='10m', \n",
    "    maxcc=0.80\n",
    ")\n",
    "\n",
    "save = SaveToDisk(folder='eopatches', overwrite_permission=OverwritePermission.OVERWRITE_PATCH)"
   ]
  },
  {
   "cell_type": "markdown",
   "metadata": {},
   "source": [
    "The ask to get data from Geopedia. Downloading data about crop types for Slovenia in the year 2017"
   ]
  },
  {
   "cell_type": "code",
   "execution_count": 5,
   "metadata": {},
   "outputs": [],
   "source": [
    "class AddGeopediaVectorFeature(EOTask):\n",
    "    \"\"\"\n",
    "    Add vector data from Geopedia.\n",
    "    \"\"\"\n",
    "    def __init__(self, feature, layer, drop_duplicates=False):\n",
    "        self.feature_type, self.feature_name = next(self._parse_features(feature)())\n",
    "        self.layer = layer\n",
    "        self.drop_duplicates = drop_duplicates\n",
    "                \n",
    "    def execute(self, eopatch):\n",
    "        # convert to 3857 CRS\n",
    "        bbox_3857 = BBox.transform(eopatch.bbox, CRS.POP_WEB)\n",
    "        \n",
    "        # get iterator over features\n",
    "        gpd_iter = GeopediaFeatureIterator(layer=self.layer, bbox=bbox_3857)\n",
    "\n",
    "        features = list(gpd_iter)\n",
    "        if len(features):\n",
    "            gdf = gpd.GeoDataFrame.from_features(features)\n",
    "            gdf.crs = {'init': 'epsg:4326'}\n",
    "            # convert back to EOPatch CRS\n",
    "            gdf = gdf.to_crs({'init': f'epsg:{eopatch.bbox.crs.value}'})\n",
    "            \n",
    "            if self.drop_duplicates:\n",
    "                sel = gdf.drop('geometry', axis=1)\n",
    "                sel = sel.drop_duplicates()\n",
    "                gdf = gdf.loc[sel.index]\n",
    "                \n",
    "            eopatch[self.feature_type][self.feature_name] = gdf \n",
    "\n",
    "        return eopatch\n",
    "\n",
    "# Slovenia 2017 data\n",
    "layer_id = 2038\n",
    "add_lpis = AddGeopediaVectorFeature((FeatureType.VECTOR_TIMELESS, 'LPIS_2017'),\n",
    "                                     layer=layer_id, drop_duplicates=True)"
   ]
  },
  {
   "cell_type": "markdown",
   "metadata": {},
   "source": [
    "Downloaded data are in vectorized form, therefore we have to rasterize it."
   ]
  },
  {
   "cell_type": "code",
   "execution_count": 6,
   "metadata": {},
   "outputs": [],
   "source": [
    "rasterization_task = VectorToRaster(vector_input=(FeatureType.VECTOR_TIMELESS,'LPIS_2017'), \n",
    "                                    raster_feature=(FeatureType.MASK_TIMELESS,'LPIS_2017'),\n",
    "                                    values_column='SIFRA_KMRS', \n",
    "                                    raster_shape=(FeatureType.MASK, 'IS_DATA'),\n",
    "                                    raster_dtype=np.uint8)"
   ]
  },
  {
   "cell_type": "markdown",
   "metadata": {},
   "source": [
    "## Using streaming models"
   ]
  },
  {
   "cell_type": "code",
   "execution_count": 7,
   "metadata": {},
   "outputs": [],
   "source": [
    "#EOTask for fiting.\n",
    "class StreamingModelFit(EOTask):\n",
    "    \"\"\"\n",
    "        Task to fit model.\n",
    "    \"\"\"\n",
    "    def __init__(self, time=0, feature_name='bands', label_name='land_cov', model=ml_rapids.HoeffdingTree() ):\n",
    "        self.time=time\n",
    "        self.feature_name = feature_name\n",
    "        self.label_name = label_name\n",
    "        self.learner = model\n",
    "\n",
    "    def fit_eopatch(self, eopatch):\n",
    "        X = eopatch.data[self.feature_name][self.time]\n",
    "        Y = eopatch.mask_timeless[self.label_name]\n",
    "        X_train = X.reshape(X.shape[0] * X.shape[1], X.shape[2])\n",
    "        Y_train = Y.reshape(X.shape[0] * X.shape[1]).astype(int)\n",
    "        \n",
    "        self.learner.fit(X_train, Y_train)\n",
    "        \n",
    "    def execute(self, eopatch):\n",
    "        self.fit_eopatch(eopatch)\n",
    "        return eopatch\n",
    "            \n",
    "    def get_model(self):\n",
    "        return self.learner"
   ]
  },
  {
   "cell_type": "code",
   "execution_count": 8,
   "metadata": {},
   "outputs": [],
   "source": [
    "#EOTask for prediction.\n",
    "class StreamingModelPredict(EOTask):\n",
    "    \"\"\"\n",
    "        Task to predict with model.\n",
    "    \"\"\"\n",
    "    def __init__(self, time=0, feature_name='bands', label_name='land_cov', model=ml_rapids.HoeffdingTree() ):\n",
    "        self.time=time\n",
    "        self.feature_name = feature_name\n",
    "        self.label_name = label_name\n",
    "        self.learner = model\n",
    "    \n",
    "    def predict_eopatch(self, eopatch):\n",
    "        X = eopatch.data[self.feature_name][self.time]\n",
    "        X_predict = X.reshape(X.shape[0] * X.shape[1], X.shape[2])\n",
    "        \n",
    "        Y_predict = self.learner.predict(X_predict)\n",
    "        Y_predict = Y_predict.reshape(X.shape[0], X.shape[1], 1)\n",
    "        \n",
    "        eopatch.add_feature(FeatureType.MASK_TIMELESS, self.label_name + '_predict', Y_predict)\n",
    "\n",
    "        return eopatch\n",
    "    \n",
    "    def execute(self, eopatch):\n",
    "        eopatch = self.predict_eopatch(eopatch)\n",
    "        return eopatch\n",
    "    \n",
    "    def get_model(self):\n",
    "        return self.learner"
   ]
  },
  {
   "cell_type": "markdown",
   "metadata": {},
   "source": [
    "Define task for fitting. Used model is Hoeffding tree from ml-rapids."
   ]
  },
  {
   "cell_type": "code",
   "execution_count": 9,
   "metadata": {},
   "outputs": [],
   "source": [
    "fit_task = StreamingModelFit(time =0, feature_name='bands', label_name='LPIS_2017', model=ml_rapids.HoeffdingTree())"
   ]
  },
  {
   "cell_type": "markdown",
   "metadata": {},
   "source": [
    "Define workflow for fitting and execute it. We can use the same workflow and HoeffdingTree() model will update itself on each new EOPatch."
   ]
  },
  {
   "cell_type": "code",
   "execution_count": 10,
   "metadata": {},
   "outputs": [],
   "source": [
    "workflow_fit = LinearWorkflow(\n",
    "    add_data,\n",
    "    add_lpis,\n",
    "    rasterization_task,\n",
    "    fit_task,\n",
    "    #save\n",
    ")"
   ]
  },
  {
   "cell_type": "code",
   "execution_count": 11,
   "metadata": {},
   "outputs": [
    {
     "data": {
      "text/plain": [
       "WorkflowResults(\n",
       "  Dependency(StreamingModelFit):\n",
       "    EOPatch(\n",
       "      data: {\n",
       "        bands: numpy.ndarray(shape=(15, 337, 333, 13), dtype=float32)\n",
       "      }\n",
       "      mask: {\n",
       "        IS_DATA: numpy.ndarray(shape=(15, 337, 333, 1), dtype=bool)\n",
       "      }\n",
       "      scalar: {}\n",
       "      label: {}\n",
       "      vector: {}\n",
       "      data_timeless: {}\n",
       "      mask_timeless: {\n",
       "        LPIS_2017: numpy.ndarray(shape=(337, 333, 1), dtype=uint8)\n",
       "      }\n",
       "      scalar_timeless: {}\n",
       "      label_timeless: {}\n",
       "      vector_timeless: {\n",
       "        LPIS_2017: geopandas.GeoDataFrame(columns=['GERK_PID', 'GERK_POVR', 'KMG_MID', 'KRA_MEJ', 'LETO', 'POLJINA_ID', 'POLJ_LETO', 'PONO35', 'PONO50', 'POVR_POLJI', 'RABA_ID', 'SIFINFOGIS', 'SIFRA_KMRS', 'geometry'], length=643, crs=epsg:32633)\n",
       "      }\n",
       "      meta_info: {\n",
       "        maxcc: 0.8\n",
       "        service_type: 'wcs'\n",
       "        size_x: '10m'\n",
       "        size_y: '10m'\n",
       "        time_difference: datetime.timedelta(days=-1, seconds=86399)\n",
       "        time_interval: ['2017-04-01', '2017-07-01']\n",
       "      }\n",
       "      bbox: BBox(((543473.5912890476, 5139156.267383285), (546805.1886957382, 5142522.075033964)), crs=EPSG:32633)\n",
       "      timestamp: [datetime.datetime(2017, 4, 1, 10, 0, 22), ..., datetime.datetime(2017, 6, 30, 10, 0, 25)], length=15\n",
       "    )\n",
       ")"
      ]
     },
     "execution_count": 11,
     "metadata": {},
     "output_type": "execute_result"
    }
   ],
   "source": [
    "extra_param = {\n",
    "    add_data:{'bbox': bbox_0, \n",
    "              'time_interval': time_interval\n",
    "             },\n",
    "    #save: {'eopatch_folder': 'test'}\n",
    "}\n",
    "workflow_fit.execute(extra_param)"
   ]
  },
  {
   "cell_type": "markdown",
   "metadata": {},
   "source": [
    "Get model and use it in future workflows."
   ]
  },
  {
   "cell_type": "code",
   "execution_count": 12,
   "metadata": {},
   "outputs": [],
   "source": [
    "model = fit_task.get_model()"
   ]
  },
  {
   "cell_type": "markdown",
   "metadata": {},
   "source": [
    "Define prediction task with previously fitted model."
   ]
  },
  {
   "cell_type": "code",
   "execution_count": 13,
   "metadata": {},
   "outputs": [],
   "source": [
    "predict_task = StreamingModelPredict(time =0, feature_name='bands', label_name='LPIS_2017', model=model)"
   ]
  },
  {
   "cell_type": "markdown",
   "metadata": {},
   "source": [
    "Define workflow for prediction and execute it. If to more than one "
   ]
  },
  {
   "cell_type": "code",
   "execution_count": 14,
   "metadata": {},
   "outputs": [],
   "source": [
    "workflow_predict = LinearWorkflow(\n",
    "    add_data,\n",
    "    add_lpis,\n",
    "    rasterization_task,\n",
    "    predict_task,\n",
    "    save\n",
    ")"
   ]
  },
  {
   "cell_type": "code",
   "execution_count": 15,
   "metadata": {
    "scrolled": false
   },
   "outputs": [
    {
     "data": {
      "text/plain": [
       "WorkflowResults(\n",
       "  Dependency(SaveToDisk):\n",
       "    EOPatch(\n",
       "      data: {\n",
       "        bands: numpy.ndarray(shape=(15, 337, 333, 13), dtype=float32)\n",
       "      }\n",
       "      mask: {\n",
       "        IS_DATA: numpy.ndarray(shape=(15, 337, 333, 1), dtype=bool)\n",
       "      }\n",
       "      scalar: {}\n",
       "      label: {}\n",
       "      vector: {}\n",
       "      data_timeless: {}\n",
       "      mask_timeless: {\n",
       "        LPIS_2017: numpy.ndarray(shape=(337, 333, 1), dtype=uint8)\n",
       "        LPIS_2017_predict: numpy.ndarray(shape=(337, 333, 1), dtype=int32)\n",
       "      }\n",
       "      scalar_timeless: {}\n",
       "      label_timeless: {}\n",
       "      vector_timeless: {\n",
       "        LPIS_2017: geopandas.GeoDataFrame(columns=['GERK_PID', 'GERK_POVR', 'KMG_MID', 'KRA_MEJ', 'LETO', 'POLJINA_ID', 'POLJ_LETO', 'PONO35', 'PONO50', 'POVR_POLJI', 'RABA_ID', 'SIFINFOGIS', 'SIFRA_KMRS', 'geometry'], length=427, crs=epsg:32633)\n",
       "      }\n",
       "      meta_info: {\n",
       "        maxcc: 0.8\n",
       "        service_type: 'wcs'\n",
       "        size_x: '10m'\n",
       "        size_y: '10m'\n",
       "        time_difference: datetime.timedelta(days=-1, seconds=86399)\n",
       "        time_interval: ['2017-04-01', '2017-07-01']\n",
       "      }\n",
       "      bbox: BBox(((543473.5912890476, 5142522.075033964), (546805.1886957382, 5145887.882684642)), crs=EPSG:32633)\n",
       "      timestamp: [datetime.datetime(2017, 4, 1, 10, 0, 22), ..., datetime.datetime(2017, 6, 30, 10, 0, 25)], length=15\n",
       "    )\n",
       ")"
      ]
     },
     "execution_count": 15,
     "metadata": {},
     "output_type": "execute_result"
    }
   ],
   "source": [
    "extra_param = {\n",
    "    add_data:{'bbox': bbox_1, \n",
    "              'time_interval': time_interval\n",
    "             },\n",
    "    save: {'eopatch_folder': 'predicted'}\n",
    "}\n",
    "workflow_predict.execute(extra_param)"
   ]
  },
  {
   "cell_type": "markdown",
   "metadata": {},
   "source": [
    "## Use predictions"
   ]
  },
  {
   "cell_type": "markdown",
   "metadata": {},
   "source": [
    "We load saved eopatch and use for evaluation of models."
   ]
  },
  {
   "cell_type": "code",
   "execution_count": 16,
   "metadata": {},
   "outputs": [],
   "source": [
    "eopatch = EOPatch.load('./eopatches/predicted/')"
   ]
  },
  {
   "cell_type": "code",
   "execution_count": 17,
   "metadata": {},
   "outputs": [
    {
     "name": "stdout",
     "output_type": "stream",
     "text": [
      "Accuracy: 0.6485773607435329\n"
     ]
    }
   ],
   "source": [
    "predicted = eopatch.mask_timeless['LPIS_2017_predict'].ravel()\n",
    "original = eopatch.mask_timeless['LPIS_2017'].ravel()\n",
    "\n",
    "print('Accuracy:', accuracy_score(original, predicted))"
   ]
  },
  {
   "cell_type": "code",
   "execution_count": null,
   "metadata": {},
   "outputs": [],
   "source": []
  }
 ],
 "metadata": {
  "kernelspec": {
   "display_name": "Python 3",
   "language": "python",
   "name": "python3"
  },
  "language_info": {
   "codemirror_mode": {
    "name": "ipython",
    "version": 3
   },
   "file_extension": ".py",
   "mimetype": "text/x-python",
   "name": "python",
   "nbconvert_exporter": "python",
   "pygments_lexer": "ipython3",
   "version": "3.7.3"
  }
 },
 "nbformat": 4,
 "nbformat_minor": 2
}
